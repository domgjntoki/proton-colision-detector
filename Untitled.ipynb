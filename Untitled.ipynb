{
 "cells": [
  {
   "cell_type": "code",
   "execution_count": 1,
   "id": "4967d107-1153-4201-980c-554a2b39dcf3",
   "metadata": {},
   "outputs": [
    {
     "name": "stderr",
     "output_type": "stream",
     "text": [
      "2025-05-03 18:07:51.746598: I tensorflow/tsl/platform/cloud/gcs_file_system.cc:855] GCS cache max size = 0 ; block size = 67108864 ; max staleness = 0\n",
      "2025-05-03 18:07:51.746630: I ./tensorflow/tsl/platform/cloud/ram_file_block_cache.h:64] GCS file block cache is disabled\n",
      "2025-05-03 18:07:51.746638: I tensorflow/tsl/platform/cloud/gcs_file_system.cc:895] GCS DNS cache is disabled, because GCS_RESOLVE_REFRESH_SECS = 0 (or is not set)\n",
      "2025-05-03 18:07:51.746643: I tensorflow/tsl/platform/cloud/gcs_file_system.cc:925] GCS additional header DISABLED. No environment variable set.\n",
      "2025-05-03 18:07:51.746649: I tensorflow/tsl/platform/cloud/gcs_file_system.cc:306] GCS RetryConfig: init_delay_time_us = 1000000 ; max_delay_time_us = 32000000 ; max_retries = 10\n",
      "2025-05-03 18:07:51.746652: I tensorflow/tsl/platform/cloud/gcs_file_system.cc:306] GCS RetryConfig: init_delay_time_us = 1000000 ; max_delay_time_us = 32000000 ; max_retries = 10\n",
      "2025-05-03 18:07:51.748702: I tensorflow/tsl/platform/default/dso_loader.cc:55] Successfully opened dynamic library libcudart.so.11.0\n",
      "2025-05-03 18:07:51.774691: E tensorflow/compiler/xla/stream_executor/cuda/cuda_dnn.cc:9342] Unable to register cuDNN factory: Attempting to register factory for plugin cuDNN when one has already been registered\n",
      "2025-05-03 18:07:51.774717: E tensorflow/compiler/xla/stream_executor/cuda/cuda_fft.cc:609] Unable to register cuFFT factory: Attempting to register factory for plugin cuFFT when one has already been registered\n",
      "2025-05-03 18:07:51.774736: E tensorflow/compiler/xla/stream_executor/cuda/cuda_blas.cc:1518] Unable to register cuBLAS factory: Attempting to register factory for plugin cuBLAS when one has already been registered\n",
      "2025-05-03 18:07:51.778631: I tensorflow/tsl/platform/cloud/gcs_file_system.cc:855] GCS cache max size = 0 ; block size = 67108864 ; max staleness = 0\n",
      "2025-05-03 18:07:51.778643: I ./tensorflow/tsl/platform/cloud/ram_file_block_cache.h:64] GCS file block cache is disabled\n",
      "2025-05-03 18:07:51.778647: I tensorflow/tsl/platform/cloud/gcs_file_system.cc:895] GCS DNS cache is disabled, because GCS_RESOLVE_REFRESH_SECS = 0 (or is not set)\n",
      "2025-05-03 18:07:51.778650: I tensorflow/tsl/platform/cloud/gcs_file_system.cc:925] GCS additional header DISABLED. No environment variable set.\n",
      "2025-05-03 18:07:51.778655: I tensorflow/tsl/platform/cloud/gcs_file_system.cc:306] GCS RetryConfig: init_delay_time_us = 1000000 ; max_delay_time_us = 32000000 ; max_retries = 10\n",
      "2025-05-03 18:07:51.778658: I tensorflow/tsl/platform/cloud/gcs_file_system.cc:306] GCS RetryConfig: init_delay_time_us = 1000000 ; max_delay_time_us = 32000000 ; max_retries = 10\n",
      "2025-05-03 18:07:51.779871: I tensorflow/tsl/platform/default/dso_loader.cc:55] Successfully opened dynamic library libcudart.so.11.0\n",
      "2025-05-03 18:07:51.780278: I tensorflow/core/platform/cpu_feature_guard.cc:182] This TensorFlow binary is optimized to use available CPU instructions in performance-critical operations.\n",
      "To enable the following instructions: AVX2 FMA, in other operations, rebuild TensorFlow with the appropriate compiler flags.\n",
      "2025-05-03 18:07:52.550418: I tensorflow/tsl/platform/default/dso_loader.cc:55] Successfully opened dynamic library libnvinfer.so.8\n",
      "2025-05-03 18:07:52.569724: I tensorflow/tsl/platform/default/dso_loader.cc:55] Successfully opened dynamic library libnvinfer_plugin.so.8\n",
      "2025-05-03 18:07:52.569827: I tensorflow/tsl/platform/default/dso_loader.cc:55] Successfully opened dynamic library libnvinfer.so.8\n"
     ]
    },
    {
     "name": "stdout",
     "output_type": "stream",
     "text": [
      "Num GPUs Available:  1\n"
     ]
    },
    {
     "name": "stderr",
     "output_type": "stream",
     "text": [
      "2025-05-03 18:07:53.255208: I tensorflow/compiler/xla/parse_flags_from_env.cc:196] For env var TF_XLA_FLAGS found arguments:\n",
      "2025-05-03 18:07:53.255236: I tensorflow/compiler/xla/parse_flags_from_env.cc:198]   argv[0] = <argv[0]>\n",
      "2025-05-03 18:07:53.255246: I tensorflow/compiler/xla/parse_flags_from_env.cc:196] For env var TF_JITRT_FLAGS found arguments:\n",
      "2025-05-03 18:07:53.255251: I tensorflow/compiler/xla/parse_flags_from_env.cc:198]   argv[0] = <argv[0]>\n",
      "2025-05-03 18:07:53.255257: I tensorflow/compiler/jit/xla_cpu_device.cc:44] Not creating XLA devices, tf_xla_enable_xla_devices not set and XLA device creation not requested\n",
      "2025-05-03 18:07:53.255301: I tensorflow/tsl/platform/default/dso_loader.cc:55] Successfully opened dynamic library libcuda.so.1\n",
      "2025-05-03 18:07:53.265722: I tensorflow/compiler/xla/stream_executor/cuda/cuda_diagnostics.cc:251] found DLL info with name: /usr/lib/x86_64-linux-gnu/libcuda.so.1\n",
      "2025-05-03 18:07:53.265745: I tensorflow/compiler/xla/stream_executor/cuda/cuda_diagnostics.cc:256] found DLL info with resolved path: /usr/lib/x86_64-linux-gnu/libcuda.so.550.144.03\n",
      "2025-05-03 18:07:53.265754: I tensorflow/compiler/xla/stream_executor/cuda/cuda_diagnostics.cc:105] version string \"550.144.03\" made value 550.144.3\n",
      "2025-05-03 18:07:53.265766: I tensorflow/compiler/xla/stream_executor/cuda/cuda_gpu_executor.cc:864] trying to read NUMA node for device ordinal: 0\n",
      "2025-05-03 18:07:53.265783: I tensorflow/compiler/xla/stream_executor/cuda/cuda_gpu_executor.cc:894] successful NUMA node read from SysFS had negative value (-1), but there must be at least one NUMA node, so returning NUMA node zero. See more at https://github.com/torvalds/linux/blob/v6.0/Documentation/ABI/testing/sysfs-bus-pci#L344-L355\n",
      "2025-05-03 18:07:53.265916: I tensorflow/core/common_runtime/gpu/gpu_device.cc:2179] Found device 0 with properties: \n",
      "pciBusID: 0000:07:00.0 name: NVIDIA GeForce RTX 3070 computeCapability: 8.6\n",
      "coreClock: 1.77GHz coreCount: 46 deviceMemorySize: 7.78GiB deviceMemoryBandwidth: 417.29GiB/s\n",
      "2025-05-03 18:07:53.265932: I tensorflow/tsl/platform/default/dso_loader.cc:55] Successfully opened dynamic library libcudart.so.11.0\n",
      "2025-05-03 18:07:53.265975: I tensorflow/tsl/platform/default/dso_loader.cc:55] Successfully opened dynamic library libcublas.so.11\n",
      "2025-05-03 18:07:53.265987: I tensorflow/tsl/platform/default/dso_loader.cc:55] Successfully opened dynamic library libcublasLt.so.11\n",
      "2025-05-03 18:07:53.268626: I tensorflow/tsl/platform/default/dso_loader.cc:55] Successfully opened dynamic library libcufft.so.10\n",
      "2025-05-03 18:07:53.269161: I tensorflow/tsl/platform/default/dso_loader.cc:55] Successfully opened dynamic library libcusolver.so.11\n",
      "2025-05-03 18:07:53.269801: I tensorflow/tsl/platform/default/dso_loader.cc:55] Successfully opened dynamic library libcusparse.so.11\n",
      "2025-05-03 18:07:53.269824: I tensorflow/tsl/platform/default/dso_loader.cc:55] Successfully opened dynamic library libcudnn.so.8\n",
      "2025-05-03 18:07:53.269850: I tensorflow/compiler/xla/stream_executor/cuda/cuda_diagnostics.cc:251] found DLL info with name: /usr/lib/x86_64-linux-gnu/libcuda.so.1\n",
      "2025-05-03 18:07:53.269863: I tensorflow/compiler/xla/stream_executor/cuda/cuda_diagnostics.cc:256] found DLL info with resolved path: /usr/lib/x86_64-linux-gnu/libcuda.so.550.144.03\n",
      "2025-05-03 18:07:53.269870: I tensorflow/compiler/xla/stream_executor/cuda/cuda_diagnostics.cc:105] version string \"550.144.03\" made value 550.144.3\n",
      "2025-05-03 18:07:53.269877: I tensorflow/compiler/xla/stream_executor/cuda/cuda_gpu_executor.cc:864] trying to read NUMA node for device ordinal: 0\n",
      "2025-05-03 18:07:53.269897: I tensorflow/compiler/xla/stream_executor/cuda/cuda_gpu_executor.cc:894] successful NUMA node read from SysFS had negative value (-1), but there must be at least one NUMA node, so returning NUMA node zero. See more at https://github.com/torvalds/linux/blob/v6.0/Documentation/ABI/testing/sysfs-bus-pci#L344-L355\n",
      "2025-05-03 18:07:53.270029: I tensorflow/compiler/xla/stream_executor/cuda/cuda_diagnostics.cc:251] found DLL info with name: /usr/lib/x86_64-linux-gnu/libcuda.so.1\n",
      "2025-05-03 18:07:53.270044: I tensorflow/compiler/xla/stream_executor/cuda/cuda_diagnostics.cc:256] found DLL info with resolved path: /usr/lib/x86_64-linux-gnu/libcuda.so.550.144.03\n",
      "2025-05-03 18:07:53.270051: I tensorflow/compiler/xla/stream_executor/cuda/cuda_diagnostics.cc:105] version string \"550.144.03\" made value 550.144.3\n",
      "2025-05-03 18:07:53.270055: I tensorflow/compiler/xla/stream_executor/cuda/cuda_gpu_executor.cc:864] trying to read NUMA node for device ordinal: 0\n",
      "2025-05-03 18:07:53.270071: I tensorflow/compiler/xla/stream_executor/cuda/cuda_gpu_executor.cc:894] successful NUMA node read from SysFS had negative value (-1), but there must be at least one NUMA node, so returning NUMA node zero. See more at https://github.com/torvalds/linux/blob/v6.0/Documentation/ABI/testing/sysfs-bus-pci#L344-L355\n",
      "2025-05-03 18:07:53.270185: I tensorflow/core/common_runtime/gpu/gpu_device.cc:2317] Adding visible gpu devices: 0\n",
      "2025-05-03 18:07:53.270195: I tensorflow/compiler/jit/xla_gpu_device.cc:49] Not creating XLA devices, tf_xla_enable_xla_devices not set and XLA devices creation not required\n"
     ]
    }
   ],
   "source": [
    "import tensorflow as tf\n",
    "print(\"Num GPUs Available: \", len(tf.config.list_physical_devices('GPU')))"
   ]
  },
  {
   "cell_type": "code",
   "execution_count": 2,
   "id": "a9e7509c-f078-4d9e-9e85-0b84b40f1c3a",
   "metadata": {},
   "outputs": [
    {
     "name": "stdout",
     "output_type": "stream",
     "text": [
      "Sat May  3 18:08:03 2025       \n",
      "+-----------------------------------------------------------------------------------------+\n",
      "| NVIDIA-SMI 550.144.03             Driver Version: 550.144.03     CUDA Version: 12.4     |\n",
      "|-----------------------------------------+------------------------+----------------------+\n",
      "| GPU  Name                 Persistence-M | Bus-Id          Disp.A | Volatile Uncorr. ECC |\n",
      "| Fan  Temp   Perf          Pwr:Usage/Cap |           Memory-Usage | GPU-Util  Compute M. |\n",
      "|                                         |                        |               MIG M. |\n",
      "|=========================================+========================+======================|\n",
      "|   0  NVIDIA GeForce RTX 3070        Off |   00000000:07:00.0  On |                  N/A |\n",
      "|  0%   47C    P5             28W /  240W |     824MiB /   8192MiB |     30%      Default |\n",
      "|                                         |                        |                  N/A |\n",
      "+-----------------------------------------+------------------------+----------------------+\n",
      "                                                                                         \n",
      "+-----------------------------------------------------------------------------------------+\n",
      "| Processes:                                                                              |\n",
      "|  GPU   GI   CI        PID   Type   Process name                              GPU Memory |\n",
      "|        ID   ID                                                               Usage      |\n",
      "|=========================================================================================|\n",
      "+-----------------------------------------------------------------------------------------+\n"
     ]
    }
   ],
   "source": [
    "!nvidia-smi"
   ]
  },
  {
   "cell_type": "code",
   "execution_count": null,
   "id": "9f9af4a8-ff5b-4bea-9fb8-ee131e425ebb",
   "metadata": {},
   "outputs": [],
   "source": []
  }
 ],
 "metadata": {
  "kernelspec": {
   "display_name": "Python 3 (ipykernel)",
   "language": "python",
   "name": "python3"
  },
  "language_info": {
   "codemirror_mode": {
    "name": "ipython",
    "version": 3
   },
   "file_extension": ".py",
   "mimetype": "text/x-python",
   "name": "python",
   "nbconvert_exporter": "python",
   "pygments_lexer": "ipython3",
   "version": "3.11.0rc1"
  }
 },
 "nbformat": 4,
 "nbformat_minor": 5
}
