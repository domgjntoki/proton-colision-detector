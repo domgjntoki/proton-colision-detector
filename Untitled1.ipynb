{
 "cells": [
  {
   "cell_type": "code",
   "execution_count": 8,
   "id": "11ea51c8-34a3-4ee3-8b2d-be5d7bdd8121",
   "metadata": {},
   "outputs": [
    {
     "name": "stdout",
     "output_type": "stream",
     "text": [
      "{'CLICOLOR': '1',\n",
      " 'CLICOLOR_FORCE': '1',\n",
      " 'CUDA_VERSION': '11.8.0',\n",
      " 'DEBIAN_FRONTEND': 'noninteractive',\n",
      " 'FORCE_COLOR': '1',\n",
      " 'GIT_PAGER': 'cat',\n",
      " 'HOME': '/root',\n",
      " 'HOSTNAME': '07a3c5aeb524',\n",
      " 'JPY_PARENT_PID': '1',\n",
      " 'JPY_SESSION_NAME': '/app/Untitled1.ipynb',\n",
      " 'JUPYTER_DISABLE_CONFIG': 'yes',\n",
      " 'JUPYTER_TOKEN': 'token',\n",
      " 'LANG': 'C.UTF-8',\n",
      " 'LD_LIBRARY_PATH': '/usr/local/nvidia/lib:/usr/local/nvidia/lib64',\n",
      " 'MPLBACKEND': 'module://matplotlib_inline.backend_inline',\n",
      " 'NVARCH': 'x86_64',\n",
      " 'NVIDIA_DRIVER_CAPABILITIES': 'compute,utility',\n",
      " 'NVIDIA_REQUIRE_CUDA': 'cuda>=11.8 brand=tesla,driver>=450,driver<451 '\n",
      "                        'brand=tesla,driver>=470,driver<471 '\n",
      "                        'brand=unknown,driver>=470,driver<471 '\n",
      "                        'brand=nvidia,driver>=470,driver<471 '\n",
      "                        'brand=nvidiartx,driver>=470,driver<471 '\n",
      "                        'brand=geforce,driver>=470,driver<471 '\n",
      "                        'brand=geforcertx,driver>=470,driver<471 '\n",
      "                        'brand=quadro,driver>=470,driver<471 '\n",
      "                        'brand=quadrortx,driver>=470,driver<471 '\n",
      "                        'brand=titan,driver>=470,driver<471 '\n",
      "                        'brand=titanrtx,driver>=470,driver<471 '\n",
      "                        'brand=tesla,driver>=510,driver<511 '\n",
      "                        'brand=unknown,driver>=510,driver<511 '\n",
      "                        'brand=nvidia,driver>=510,driver<511 '\n",
      "                        'brand=nvidiartx,driver>=510,driver<511 '\n",
      "                        'brand=geforce,driver>=510,driver<511 '\n",
      "                        'brand=geforcertx,driver>=510,driver<511 '\n",
      "                        'brand=quadro,driver>=510,driver<511 '\n",
      "                        'brand=quadrortx,driver>=510,driver<511 '\n",
      "                        'brand=titan,driver>=510,driver<511 '\n",
      "                        'brand=titanrtx,driver>=510,driver<511 '\n",
      "                        'brand=tesla,driver>=515,driver<516 '\n",
      "                        'brand=unknown,driver>=515,driver<516 '\n",
      "                        'brand=nvidia,driver>=515,driver<516 '\n",
      "                        'brand=nvidiartx,driver>=515,driver<516 '\n",
      "                        'brand=geforce,driver>=515,driver<516 '\n",
      "                        'brand=geforcertx,driver>=515,driver<516 '\n",
      "                        'brand=quadro,driver>=515,driver<516 '\n",
      "                        'brand=quadrortx,driver>=515,driver<516 '\n",
      "                        'brand=titan,driver>=515,driver<516 '\n",
      "                        'brand=titanrtx,driver>=515,driver<516',\n",
      " 'NVIDIA_VISIBLE_DEVICES': 'all',\n",
      " 'NV_CUDA_COMPAT_PACKAGE': 'cuda-compat-11-8',\n",
      " 'NV_CUDA_CUDART_VERSION': '11.8.89-1',\n",
      " 'PAGER': 'cat',\n",
      " 'PATH': '/usr/local/nvidia/bin:/usr/local/cuda/bin:/usr/local/sbin:/usr/local/bin:/usr/sbin:/usr/bin:/sbin:/bin',\n",
      " 'PYDEVD_USE_FRAME_EVAL': 'NO',\n",
      " 'TERM': 'xterm-color',\n",
      " 'TF_FORCE_GPU_ALLOW_GROWTH': 'TRUE',\n",
      " 'TF_GPU_ALLOCATOR': 'cuda_malloc_async'}\n"
     ]
    }
   ],
   "source": [
    "import os\n",
    "from pprint import pprint\n",
    "pprint(dict(os.environ))"
   ]
  },
  {
   "cell_type": "code",
   "execution_count": null,
   "id": "2aaedaf1-73f3-47a9-9787-56f5b53e3962",
   "metadata": {},
   "outputs": [],
   "source": []
  }
 ],
 "metadata": {
  "kernelspec": {
   "display_name": "Python 3 (ipykernel)",
   "language": "python",
   "name": "python3"
  },
  "language_info": {
   "codemirror_mode": {
    "name": "ipython",
    "version": 3
   },
   "file_extension": ".py",
   "mimetype": "text/x-python",
   "name": "python",
   "nbconvert_exporter": "python",
   "pygments_lexer": "ipython3",
   "version": "3.11.0rc1"
  }
 },
 "nbformat": 4,
 "nbformat_minor": 5
}
